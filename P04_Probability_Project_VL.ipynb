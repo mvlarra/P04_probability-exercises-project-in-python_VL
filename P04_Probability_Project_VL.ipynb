{
 "cells": [
  {
   "cell_type": "markdown",
   "id": "c5e1f13a",
   "metadata": {},
   "source": [
    "Ex.1: estimar la probabilidad de obtener un puntaje par o mayor a 7 al lanzar dos dados"
   ]
  },
  {
   "cell_type": "code",
   "execution_count": 2,
   "id": "4eff6fe8",
   "metadata": {},
   "outputs": [
    {
     "name": "stdout",
     "output_type": "stream",
     "text": [
      "Probabilidad estimada: 66.3%\n"
     ]
    }
   ],
   "source": [
    "import random\n",
    "\n",
    "def simulate_dice_rolls(n_simulations=1000):\n",
    "    \"\"\"\n",
    "    Realiza una simulación de lanzamientos de dos dados.\n",
    "    \n",
    "    Retorna:\n",
    "        Probabilidad estimada de que la suma sea par o mayor que 7.\n",
    "    \"\"\"\n",
    "    favorable_outcomes = 0\n",
    "\n",
    "    for _ in range(n_simulations):\n",
    "        # Lanzamiento de dos dados\n",
    "        die1 = random.randint(1, 6)\n",
    "        die2 = random.randint(1, 6)\n",
    "        total = die1 + die2\n",
    "\n",
    "        # Condición: la suma debe ser par o mayor a 7\n",
    "        if (total % 2 == 0) or (total > 7):\n",
    "            favorable_outcomes += 1\n",
    "\n",
    "    # Estimación de la probabilidad\n",
    "    probability = favorable_outcomes / n_simulations\n",
    "    return probability\n",
    "\n",
    "# Ejecutar la simulación\n",
    "estimated_prob = simulate_dice_rolls()\n",
    "print(f\"Probabilidad estimada: {round(estimated_prob * 100, 2)}%\")\n"
   ]
  },
  {
   "cell_type": "markdown",
   "id": "8a6c13cd",
   "metadata": {},
   "source": [
    "Ex.2:"
   ]
  },
  {
   "cell_type": "code",
   "execution_count": 5,
   "id": "e0405a3b",
   "metadata": {},
   "outputs": [
    {
     "name": "stdout",
     "output_type": "stream",
     "text": [
      "Probabilidad de 3 blancas y 2 rojas: 0.5%\n",
      "Probabilidad de 5 bolas del mismo color: 3.7%\n"
     ]
    }
   ],
   "source": [
    "import numpy as np\n",
    "import random\n",
    "\n",
    "# Crear el diccionario de bolas por color\n",
    "ball_box = {}\n",
    "for i in range(60):\n",
    "    if i < 10:\n",
    "        ball_box[i] = \"White\"\n",
    "    elif i < 30:\n",
    "        ball_box[i] = \"Red\"\n",
    "    else:\n",
    "        ball_box[i] = \"Green\"\n",
    "\n",
    "# Función para simular extracciones\n",
    "def simulate_ball_extractions(n_simulations=1000):\n",
    "    count_white_red = 0  # 3 blancas y 2 rojas\n",
    "    count_same_color = 0  # 5 del mismo color\n",
    "\n",
    "    for _ in range(n_simulations):\n",
    "        extracted_colors = []\n",
    "\n",
    "        # Extraer 5 bolas con reemplazo\n",
    "        for _ in range(5):\n",
    "            index = np.random.randint(0, 60)\n",
    "            extracted_colors.append(ball_box[index])\n",
    "\n",
    "        # Contar ocurrencias de cada color\n",
    "        white = extracted_colors.count(\"White\")\n",
    "        red = extracted_colors.count(\"Red\")\n",
    "        green = extracted_colors.count(\"Green\")\n",
    "\n",
    "        # Condición 1: 3 blancas y 2 rojas\n",
    "        if white == 3 and red == 2:\n",
    "            count_white_red += 1\n",
    "\n",
    "        # Condición 2: todas del mismo color\n",
    "        if white == 5 or red == 5 or green == 5:\n",
    "            count_same_color += 1\n",
    "\n",
    "    # Calcular probabilidades\n",
    "    prob_3white_2red = count_white_red / n_simulations\n",
    "    prob_all_same = count_same_color / n_simulations\n",
    "\n",
    "    return prob_3white_2red, prob_all_same\n",
    "\n",
    "# Ejecutar simulación\n",
    "prob1, prob2 = simulate_ball_extractions()\n",
    "\n",
    "print(f\"Probabilidad de 3 blancas y 2 rojas: {round(prob1 * 100, 2)}%\")\n",
    "print(f\"Probabilidad de 5 bolas del mismo color: {round(prob2 * 100, 2)}%\")\n"
   ]
  }
 ],
 "metadata": {
  "kernelspec": {
   "display_name": "Python 3",
   "language": "python",
   "name": "python3"
  },
  "language_info": {
   "codemirror_mode": {
    "name": "ipython",
    "version": 3
   },
   "file_extension": ".py",
   "mimetype": "text/x-python",
   "name": "python",
   "nbconvert_exporter": "python",
   "pygments_lexer": "ipython3",
   "version": "3.11.4"
  }
 },
 "nbformat": 4,
 "nbformat_minor": 5
}
